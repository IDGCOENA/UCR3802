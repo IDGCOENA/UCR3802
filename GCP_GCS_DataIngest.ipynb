{
  "nbformat": 4,
  "nbformat_minor": 0,
  "metadata": {
    "colab": {
      "name": "GCP_GCS_DataIngest.ipynb",
      "provenance": [],
      "collapsed_sections": []
    },
    "kernelspec": {
      "name": "python3",
      "display_name": "Python 3"
    },
    "language_info": {
      "name": "python"
    }
  },
  "cells": [
    {
      "cell_type": "code",
      "execution_count": null,
      "metadata": {
        "id": "i99Lmy3mrhCH"
      },
      "outputs": [],
      "source": [
        "!pip install google.cloud --upgrade\n",
        "!pip install replace\n",
        "!pip install hana_ml"
      ]
    },
    {
      "cell_type": "code",
      "source": [
        "import io\n",
        "import time\n",
        "from google.resumable_media.requests import download\n",
        "from google.cloud import storage\n",
        "from google.cloud.storage import blob\n",
        "import pandas as pd\n",
        "import replace \n",
        "import hana_ml.dataframe as dataframe\n",
        "#Provide you connection details below either to ingest data into DWC Container or to HANA Cloud \n",
        "conn = dataframe.ConnectionContext(address = 'XXXXXXXXXXXXXXXXXXXXXXXXXXXXXX', #Provide your OpenSQL Host here\n",
        "                                   port = 443, \n",
        "                                   user = 'XXXXXX', #Provide your OpenSQL container Username here \n",
        "                                   password = 'XXXXXXX', #Provide your OpenSQL contianer password here\n",
        "                                   encrypt = 'true'\n",
        "                                  )\n",
        "storage_client = storage.Client.from_service_account_json('<Path to Json File>') #Provide the service account JSON File\n",
        "buckets = list(storage_client.list_buckets())\n",
        "t1=time.time()\n",
        "blobs = storage_client.list_blobs('XXXXX')  #Provide the bucket name  \n",
        "for blob in blobs:\n",
        "        #print(blob.name)\n",
        "        #with open(blob.name, \"wb\") as my_blob:\n",
        "\n",
        "             #blob_data = blob.blob_client_instance.download_blob()\n",
        "        blob_data = blob.download_as_string()\n",
        "        blobread  = pd.read_csv(io.BytesIO(blob_data))\n",
        "        key = blob.name\n",
        "        keystr = key.replace(\".csv\",\"\")\n",
        "        df_remote = dataframe.create_dataframe_from_pandas(connection_context = conn, \n",
        "                                                   pandas_df = blobread, \n",
        "                                                   table_name = keystr,\n",
        "                                                 #  schema = 'XXXX',   #Schema name is not needed for DWC Open SQL Container\n",
        "                                                   force = True,\n",
        "                                                   replace = True)\n",
        "        t2=time.time()\n",
        "        print((\"It takes %s seconds to download \"+blob.name) % (t2 - t1))"
      ],
      "metadata": {
        "id": "cSnunPfjr51h"
      },
      "execution_count": null,
      "outputs": []
    }
  ]
}